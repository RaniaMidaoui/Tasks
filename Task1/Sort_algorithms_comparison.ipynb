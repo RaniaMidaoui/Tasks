{
 "cells": [
  {
   "cell_type": "markdown",
   "id": "ab2649ca",
   "metadata": {},
   "source": [
    "# Task1:"
   ]
  },
  {
   "cell_type": "markdown",
   "id": "c2773c25",
   "metadata": {},
   "source": [
    "### The task's goal is to measure and present the performance for the original and any number of optimized variants  of the given algorithm in a comparison plot:\n"
   ]
  },
  {
   "cell_type": "code",
   "execution_count": 1,
   "id": "47f53998",
   "metadata": {},
   "outputs": [],
   "source": [
    "# function sortItems(array) {\n",
    "#     let swapped = true;\n",
    "#     do{\n",
    "#         swapped = false;\n",
    "#         for (let j = 0; j < array.length; j++) {\n",
    "#             if (array[j] > array[j + 1]) {\n",
    "#             let temp = array[j];\n",
    "#             array[j] = array[j + 1];\n",
    "#             array[j + 1] = temp;\n",
    "#             swapped = true;\n",
    "#             }\n",
    "#         }\n",
    "#     } while (swapped);\n",
    "#     return array;\n",
    "#}"
   ]
  },
  {
   "cell_type": "markdown",
   "id": "ec224ae7",
   "metadata": {},
   "source": [
    "Which is in Python:"
   ]
  },
  {
   "cell_type": "code",
   "execution_count": 2,
   "id": "38ca961b",
   "metadata": {},
   "outputs": [],
   "source": [
    "def bubble_sort(arr):\n",
    "    n = len(arr)\n",
    "    swapped = False\n",
    "    for i in range(n-1):\n",
    "        for j in range(0, n-i-1):\n",
    "            if arr[j] > arr[j + 1]:\n",
    "                swapped = True\n",
    "                arr[j], arr[j + 1] = arr[j + 1], arr[j]\n",
    "        if not swapped:\n",
    "            return"
   ]
  },
  {
   "cell_type": "markdown",
   "id": "76f079a6",
   "metadata": {},
   "source": [
    "This algorithm is the ***Bubble Sort*** algorithm, a simple comparison-based sorting algorithm used to arrange a list of elements, such as numbers or data, in a specific order, typically in ascending or descending order.\n",
    "\n",
    "Although the algorithm is simple, most of the other sorting algorithms are more efficient for large lists. Bubble sort has worst-case (array reverse sorted) and average time complexity of **O(n²)**, best-case (array already sorted) time complexity is **O(n)** where n is the number of items being sorted. Its worse-case space complexity is **O(1)**\n",
    "\n",
    "This algorithm is also stable, meaning equal elements have the same order in the input and output."
   ]
  },
  {
   "cell_type": "markdown",
   "id": "dcf18d19",
   "metadata": {},
   "source": [
    "### Optimized variants of the given algorithm: "
   ]
  },
  {
   "cell_type": "markdown",
   "id": "e57226a1",
   "metadata": {},
   "source": [
    "There are a lot of variants of comparison-based sorting algorithms: ***Insertion sort***, ***Selection sort***, ***Quick sort***, ***Merge sort*** and ***Heap sort***\n",
    "\n",
    "#### 1 - Insertion Sort\n",
    "\n",
    "This algorithm splits the array into two parts: one with sorted elements and another with elements awaiting sorting. Initially, the sorted part contains just the first element. We then iterate through the remaining elements, placing them in their correct positions within the sorted part.\n",
    "\n",
    "Insertion Sort's worst-case (array reverse sorted) and average time complexity of **O(n²)**, best-case (array already sorted) time complexity is **O(n)** where n is the number of items being sorted. Its worse-case space complexity is **O(1)**.\n",
    "\n",
    "Insertion Sort is a stable algorithm.\n"
   ]
  },
  {
   "cell_type": "code",
   "execution_count": 3,
   "id": "ddea0ee7",
   "metadata": {},
   "outputs": [],
   "source": [
    "def insertion_sort(arr):\n",
    "    for i in range(1, len(arr)):\n",
    "        current_index = i\n",
    "        while current_index > 0 and arr[current_index - 1] > arr[current_index]:\n",
    "            arr[current_index - 1], arr[current_index] = arr[current_index], arr[current_index - 1]\n",
    "            current_index -= 1"
   ]
  },
  {
   "cell_type": "markdown",
   "id": "97d3c5be",
   "metadata": {},
   "source": [
    "#### 2 - Selection Sort\n",
    "\n",
    "Selection sort is a simple sorting algorithm that works by dividing an array into two parts: one part contains elements that are already sorted, while the other part holds elements that still need to be sorted. Initially, the sorted subarray is empty. The algorithm proceeds through the array (n - 1) times. During each iteration, it identifies the smallest element from the unsorted subarray and relocates it to the end of the sorted subarray.\n",
    "\n",
    "In terms of time complexity, Worst case, average case, and best case all have a time complexity of **O(n²)**. Its worse-case space complexity is **O(1)**.\n",
    "\n",
    "Insertion Sort is a stable algorithm."
   ]
  },
  {
   "cell_type": "code",
   "execution_count": 4,
   "id": "5ff923e8",
   "metadata": {},
   "outputs": [],
   "source": [
    "def selection_sort(arr):\n",
    "    for outer_idx in range(len(arr) - 1):\n",
    "        min_val, min_idx = arr[outer_idx], outer_idx\n",
    "        for inner_idx in range(outer_idx + 1, len(arr)):\n",
    "            if arr[inner_idx] < min_val:\n",
    "                min_val, min_idx = arr[inner_idx], inner_idx\n",
    "        arr[outer_idx], arr[min_idx] = arr[min_idx], arr[outer_idx]"
   ]
  },
  {
   "cell_type": "markdown",
   "id": "73f6be91",
   "metadata": {},
   "source": [
    "#### 3 - Quick Sort\n",
    "\n",
    "Quicksort is a more advanced sorting method. It splits the array into two parts, uses a special element called the pivot, and arranges everything to its left that's smaller and to its right that's larger. This process continues recursively until the entire array is sorted. The success of the quicksort algorithm relies on selecting the right pivot element.\n",
    "\n",
    "It has worst-case (array reverse sorted) time complewity of **O(n²)**, average time complexity and best-case (array already sorted) time complexity of **O(n log n)** where n is the number of items being sorted. Its worse-case space complexity is **O(n log n)**.\n",
    "\n",
    "Quick sort is an unstable algorithm but very its fast in terms of execution time."
   ]
  },
  {
   "cell_type": "code",
   "execution_count": 5,
   "id": "01f043f4",
   "metadata": {},
   "outputs": [],
   "source": [
    "def partition(arr):\n",
    "    pivot, arr = arr[0], arr[1:]\n",
    "    lower = [x for x in arr if x <= pivot]\n",
    "    higher = [x for x in arr if x > pivot]\n",
    "    return lower, pivot, higher\n",
    "\n",
    "def quick_sort(arr):\n",
    "    if len(arr) <= 1:\n",
    "        return arr\n",
    "    lower, pivot, higher = partition(arr)\n",
    "    return quick_sort(lower) + [pivot] + quick_sort(higher)"
   ]
  },
  {
   "cell_type": "markdown",
   "id": "85781b16",
   "metadata": {},
   "source": [
    "#### 4 - Merge Sort\n",
    "\n",
    "In merge sort, the unsorted array is initially divided into n subarrays, each of size one, which can be seen as already sorted in a straightforward way. These sorted subarrays are then systematically merged, creating new sorted subarrays, until eventually, there's just one fully sorted array of size n.\n",
    "\n",
    "In terms of time complexity, Worst case, average case, and best case all have a time complexity of **O(n log n)**. Its worse-case space complexity is **O(n)**.\n",
    "\n",
    "Merge sort is an stable algorithm."
   ]
  },
  {
   "cell_type": "code",
   "execution_count": 6,
   "id": "4c69d19f",
   "metadata": {},
   "outputs": [],
   "source": [
    "def merge_sort(arr):\n",
    "    mid = len(arr) // 2\n",
    "    left, right = arr[:mid], arr[mid:]\n",
    "    if len(left) > 1:\n",
    "        left = merge_sort(left)\n",
    "    if len(right) > 1:\n",
    "        right = merge_sort(right)\n",
    "    result = []\n",
    "    while left and right:\n",
    "        if left[-1] >= right[-1]:\n",
    "            result.append(left.pop())\n",
    "        else:\n",
    "            result.append(right.pop())\n",
    "    result.reverse()\n",
    "    return (left or right) + result"
   ]
  },
  {
   "cell_type": "markdown",
   "id": "50f16c82",
   "metadata": {},
   "source": [
    "#### 5 - Heap Sort\n",
    "\n",
    "Heap sort begins by transforming the array into a heap. Then, it repeatedly extracts the maximum element from the heap and arranges it correctly. After each extraction, heap sort rebuilds the heap.\n",
    "\n",
    "In terms of time complexity, worst-case, average-case, and best-case all have a time complexity of **O(n log n)**. Its worse-case space complexity is **O(1)**.\n",
    "\n",
    "Merge sort is an stable algorithm."
   ]
  },
  {
   "cell_type": "code",
   "execution_count": 7,
   "id": "3c7109cb",
   "metadata": {},
   "outputs": [],
   "source": [
    "def to_heap(arr, index, length):\n",
    "    left, right = 2 * index + 1, 2 * (index + 1)\n",
    "    max_index = index\n",
    "    if left <= length and arr[left] > arr[index]:\n",
    "        max_index = left\n",
    "    if right <= length and arr[right] > arr[max_index]:\n",
    "        max_index = right\n",
    "    if max_index != index:\n",
    "        arr[index], arr[max_index] = arr[max_index], arr[index]\n",
    "        to_heap(arr, max_index, length)\n",
    "\n",
    "def build_heap(arr, start, end):\n",
    "    for i in range(start, -1, -1):\n",
    "        to_heap(arr, i, end)\n",
    "\n",
    "def heap_sort(arr):\n",
    "    end = len(arr) - 1\n",
    "    start = end // 2\n",
    "    build_heap(arr, start, end)\n",
    "\n",
    "    for i in range(end, 0, -1):\n",
    "        arr[0], arr[i] = arr[i], arr[0]\n",
    "        end -= 1\n",
    "        to_heap(arr, 0, end)"
   ]
  },
  {
   "cell_type": "markdown",
   "id": "84e66dd8",
   "metadata": {},
   "source": [
    "### Comparision of performances of the the given Bubble Sort algorithm and it optimzed variants"
   ]
  },
  {
   "cell_type": "markdown",
   "id": "d082ec99",
   "metadata": {},
   "source": [
    "We are going to test the time complexity of sorting a randomly generated arrray using the various sorting algorithms:"
   ]
  },
  {
   "cell_type": "code",
   "execution_count": 10,
   "id": "a46fa495",
   "metadata": {},
   "outputs": [
    {
     "name": "stdout",
     "output_type": "stream",
     "text": [
      "bubble_sort\n",
      "Size\tTime\n",
      "100\t0.0009996891021728516\n",
      "200\t0.0033714771270751953\n",
      "300\t0.0050334930419921875\n",
      "400\t0.01042628288269043\n",
      "500\t0.014335393905639648\n",
      "600\t0.018357038497924805\n",
      "700\t0.02457284927368164\n",
      "800\t0.04541826248168945\n",
      "900\t0.04536771774291992\n",
      "1000\t0.047269582748413086\n",
      "insertion_sort\n",
      "Size\tTime\n",
      "100\t0.0\n",
      "200\t0.015626192092895508\n",
      "300\t0.0\n",
      "400\t0.0\n",
      "500\t0.015625\n",
      "600\t0.015624761581420898\n",
      "700\t0.03149533271789551\n",
      "800\t0.03127002716064453\n",
      "900\t0.03141045570373535\n",
      "1000\t0.053551435470581055\n",
      "selection_sort\n",
      "Size\tTime\n",
      "100\t0.0\n",
      "200\t0.0\n",
      "300\t0.0\n",
      "400\t0.009475946426391602\n",
      "500\t0.004892110824584961\n",
      "600\t0.007139682769775391\n",
      "700\t0.011811971664428711\n",
      "800\t0.014829397201538086\n",
      "900\t0.01966404914855957\n",
      "1000\t0.02330183982849121\n",
      "quick_sort\n",
      "Size\tTime\n",
      "100\t0.0\n",
      "200\t0.0010037422180175781\n",
      "300\t0.0\n",
      "400\t0.0010004043579101562\n",
      "500\t0.0010004043579101562\n",
      "600\t0.0011792182922363281\n",
      "700\t0.0010123252868652344\n",
      "800\t0.0010063648223876953\n",
      "900\t0.0009999275207519531\n",
      "1000\t0.002001047134399414\n",
      "merge_sort\n",
      "Size\tTime\n",
      "100\t0.0\n",
      "200\t0.0\n",
      "300\t0.0009050369262695312\n",
      "400\t0.001039743423461914\n",
      "500\t0.0009996891021728516\n",
      "600\t0.0009999275207519531\n",
      "700\t0.0015308856964111328\n",
      "800\t0.0010170936584472656\n",
      "900\t0.002492189407348633\n",
      "1000\t0.0019989013671875\n",
      "heap_sort\n",
      "Size\tTime\n",
      "100\t0.0\n",
      "200\t0.0010008811950683594\n",
      "300\t0.0009987354278564453\n",
      "400\t0.0009999275207519531\n",
      "500\t0.001447916030883789\n",
      "600\t0.0009999275207519531\n",
      "700\t0.002000570297241211\n",
      "800\t0.0037529468536376953\n",
      "900\t0.0029997825622558594\n",
      "1000\t0.004000186920166016\n"
     ]
    },
    {
     "data": {
      "image/png": "[encoded data removed]",
      "text/plain": [
       "<Figure size 640x480 with 1 Axes>"
      ]
     },
     "metadata": {},
     "output_type": "display_data"
    }
   ],
   "source": [
    "from random import randrange\n",
    "import time\n",
    "import matplotlib.pyplot as plt\n",
    "\n",
    "def test_algorithms(algorithms):\n",
    "    analysis_dict = {}\n",
    "    \n",
    "    for algo in algorithms:\n",
    "        algo_name = algo.__name__\n",
    "        sizes, times = [], []\n",
    "        \n",
    "        for list_length in range(100, 1001, 100):\n",
    "            lst = [randrange(1000) for _ in range(list_length)]\n",
    "            start_time = time.time()\n",
    "            algo(lst)\n",
    "            end_time = time.time()\n",
    "            \n",
    "            sizes.append(list_length)\n",
    "            times.append(end_time - start_time)\n",
    "            \n",
    "        analysis_dict[algo_name] = list(zip(sizes, times))\n",
    "    \n",
    "    return analysis_dict\n",
    "\n",
    "# Define the sorting algorithms to test\n",
    "sorting_algorithms = [bubble_sort,insertion_sort, selection_sort, quick_sort, merge_sort, heap_sort]\n",
    "\n",
    "# Run the tests\n",
    "results = test_algorithms(sorting_algorithms)\n",
    "\n",
    "# Print results\n",
    "for algo_name, data in results.items():\n",
    "    print(algo_name)\n",
    "    print(\"Size\\tTime\")\n",
    "    for size, time_taken in data:\n",
    "        print(f\"{size}\\t{time_taken}\")\n",
    "\n",
    "# Plot results\n",
    "for algo_name, data in results.items():\n",
    "    sizes, times = zip(*data)\n",
    "    plt.plot(sizes, times, label=algo_name)\n",
    "\n",
    "plt.title('Comparison of Bubble sort and its optimized variants')\n",
    "plt.xlabel('Size of the List')\n",
    "plt.ylabel('Time Taken to Sort the List (sec)')\n",
    "plt.legend(loc='upper left')\n",
    "plt.show()\n"
   ]
  }
 ],
 "metadata": {
  "kernelspec": {
   "display_name": "Python 3 (ipykernel)",
   "language": "python",
   "name": "python3"
  },
  "language_info": {
   "codemirror_mode": {
    "name": "ipython",
    "version": 3
   },
   "file_extension": ".py",
   "mimetype": "text/x-python",
   "name": "python",
   "nbconvert_exporter": "python",
   "pygments_lexer": "ipython3",
   "version": "3.10.9"
  }
 },
 "nbformat": 4,
 "nbformat_minor": 5
}
